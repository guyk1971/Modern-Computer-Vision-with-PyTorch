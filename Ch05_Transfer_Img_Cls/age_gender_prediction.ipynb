{
 "cells": [
  {
   "cell_type": "markdown",
   "metadata": {
    "colab_type": "text",
    "id": "view-in-github"
   },
   "source": [
    "<a href=\"https://colab.research.google.com/github/PacktPublishing/Hands-On-Computer-Vision-with-PyTorch/blob/master/Chapter05/age_gender_prediction.ipynb\" target=\"_parent\"><img src=\"https://colab.research.google.com/assets/colab-badge.svg\" alt=\"Open In Colab\"/></a>"
   ]
  },
  {
   "cell_type": "markdown",
   "metadata": {},
   "source": [
    "# Multi-Task Learning - age estimation and gender classification\n",
    "In this section, we will learn about predicting both attributes, continuous and categorical predictions, in a single forward pass.\n",
    "The strategy we adopt is as follows:\n",
    "1. Import the relevant packages.\n",
    "2. Fetch a dataset that contains images of persons, their gender, and age information.\n",
    "3. Create training and test datasets by performing appropriate pre-processing.\n",
    "4. Build a model where the following applies:\n",
    "    - All the layers of the model remain similar to the models we have built so far, except for the last part.\n",
    "    - In the last part, create two separate layers branching out from the preceding layer, where one layer corresponds to age estimation and the other to gender classification.\n",
    "    - Ensure that you have different loss functions for each branch of output, as age is a continuous value (requiring an mse or mae loss calculation) and gender is a categorical value (requiring a crossentropy loss calculation).\n",
    "    - Take a weighted summation of age estimation loss and gender classification loss.\n",
    "    - Minimize the overall loss by performing backpropagation that optimizes weight values.\n",
    "5. Train model and predict on new images."
   ]
  },
  {
   "cell_type": "code",
   "execution_count": 1,
   "metadata": {
    "ExecuteTime": {
     "end_time": "2022-03-12T11:29:02.302772Z",
     "start_time": "2022-03-12T11:29:00.420328Z"
    },
    "id": "GO820-swkq7r"
   },
   "outputs": [],
   "source": [
    "import torch\n",
    "import numpy as np, cv2, pandas as pd, glob, time\n",
    "import matplotlib.pyplot as plt\n",
    "%matplotlib inline\n",
    "import torch\n",
    "import torch.nn as nn\n",
    "from torch import optim\n",
    "import torch.nn.functional as F\n",
    "from torch.utils.data import Dataset, DataLoader\n",
    "import torchvision\n",
    "from torchvision import transforms, models, datasets\n",
    "device = 'cuda' if torch.cuda.is_available() else 'cpu'"
   ]
  },
  {
   "cell_type": "code",
   "execution_count": 2,
   "metadata": {
    "id": "bZVyS3nCku1o"
   },
   "outputs": [],
   "source": [
    "# from pydrive.auth import GoogleAuth\n",
    "# from pydrive.drive import GoogleDrive\n",
    "# from google.colab import auth\n",
    "# from oauth2client.client import GoogleCredentials\n",
    "\n",
    "# auth.authenticate_user()\n",
    "# gauth = GoogleAuth()\n",
    "# gauth.credentials = GoogleCredentials.get_application_default()\n",
    "# drive = GoogleDrive(gauth)\n",
    "\n",
    "# def getFile_from_drive( file_id, name ):\n",
    "#   downloaded = drive.CreateFile({'id': file_id})\n",
    "#   downloaded.GetContentFile(name)\n",
    "\n",
    "# getFile_from_drive('1Z1RqRo0_JiavaZw2yzZG6WETdZQ8qX86', 'fairface-img-margin025-trainval.zip')\n",
    "# getFile_from_drive('1k5vvyREmHDW5TSM9QgB04Bvc8C8_7dl-', 'fairface-label-train.csv')\n",
    "# getFile_from_drive('1_rtz1M1zhvS0d5vVoXUamnohB6cJ02iJ', 'fairface-label-val.csv')\n",
    "\n",
    "# !unzip -qq fairface-img-margin025-trainval.zip\n",
    "import os \n",
    "fairface_folder=os.path.expanduser('~/datasets/fairface')\n",
    "\n"
   ]
  },
  {
   "cell_type": "code",
   "execution_count": 3,
   "metadata": {
    "colab": {
     "base_uri": "https://localhost:8080/",
     "height": 198
    },
    "id": "NK77ld3gkyvk",
    "outputId": "fb5a9f83-6097-4773-e541-41c2a9c08492"
   },
   "outputs": [
    {
     "data": {
      "text/html": [
       "<div>\n",
       "<style scoped>\n",
       "    .dataframe tbody tr th:only-of-type {\n",
       "        vertical-align: middle;\n",
       "    }\n",
       "\n",
       "    .dataframe tbody tr th {\n",
       "        vertical-align: top;\n",
       "    }\n",
       "\n",
       "    .dataframe thead th {\n",
       "        text-align: right;\n",
       "    }\n",
       "</style>\n",
       "<table border=\"1\" class=\"dataframe\">\n",
       "  <thead>\n",
       "    <tr style=\"text-align: right;\">\n",
       "      <th></th>\n",
       "      <th>file</th>\n",
       "      <th>age</th>\n",
       "      <th>gender</th>\n",
       "      <th>race</th>\n",
       "      <th>service_test</th>\n",
       "    </tr>\n",
       "  </thead>\n",
       "  <tbody>\n",
       "    <tr>\n",
       "      <th>0</th>\n",
       "      <td>train/1.jpg</td>\n",
       "      <td>59</td>\n",
       "      <td>Male</td>\n",
       "      <td>East Asian</td>\n",
       "      <td>True</td>\n",
       "    </tr>\n",
       "    <tr>\n",
       "      <th>1</th>\n",
       "      <td>train/2.jpg</td>\n",
       "      <td>39</td>\n",
       "      <td>Female</td>\n",
       "      <td>Indian</td>\n",
       "      <td>False</td>\n",
       "    </tr>\n",
       "    <tr>\n",
       "      <th>2</th>\n",
       "      <td>train/3.jpg</td>\n",
       "      <td>11</td>\n",
       "      <td>Female</td>\n",
       "      <td>Black</td>\n",
       "      <td>False</td>\n",
       "    </tr>\n",
       "    <tr>\n",
       "      <th>3</th>\n",
       "      <td>train/4.jpg</td>\n",
       "      <td>26</td>\n",
       "      <td>Female</td>\n",
       "      <td>Indian</td>\n",
       "      <td>True</td>\n",
       "    </tr>\n",
       "    <tr>\n",
       "      <th>4</th>\n",
       "      <td>train/5.jpg</td>\n",
       "      <td>26</td>\n",
       "      <td>Female</td>\n",
       "      <td>Indian</td>\n",
       "      <td>True</td>\n",
       "    </tr>\n",
       "  </tbody>\n",
       "</table>\n",
       "</div>"
      ],
      "text/plain": [
       "          file  age  gender        race  service_test\n",
       "0  train/1.jpg   59    Male  East Asian          True\n",
       "1  train/2.jpg   39  Female      Indian         False\n",
       "2  train/3.jpg   11  Female       Black         False\n",
       "3  train/4.jpg   26  Female      Indian          True\n",
       "4  train/5.jpg   26  Female      Indian          True"
      ]
     },
     "execution_count": 3,
     "metadata": {},
     "output_type": "execute_result"
    }
   ],
   "source": [
    "trn_df = pd.read_csv(os.path.join(fairface_folder,'fairface-label-train.csv'))\n",
    "val_df = pd.read_csv(os.path.join(fairface_folder,'fairface-label-val.csv'))\n",
    "trn_df.head()"
   ]
  },
  {
   "cell_type": "code",
   "execution_count": null,
   "metadata": {},
   "outputs": [],
   "source": [
    "len(val_df)"
   ]
  },
  {
   "cell_type": "code",
   "execution_count": 4,
   "metadata": {
    "id": "XVOL0emTljbq"
   },
   "outputs": [],
   "source": [
    "from torch.utils.data import Dataset, DataLoader\n",
    "import cv2\n",
    "IMAGE_SIZE = 224\n",
    "class GenderAgeClass(Dataset):\n",
    "    def __init__(self, df, dataset_path, tfms=None):\n",
    "        self.df = df\n",
    "        self.normalize = transforms.Normalize(mean=[0.485, 0.456, 0.406], \n",
    "                                              std=[0.229, 0.224, 0.225])\n",
    "        self.dataset_path = dataset_path\n",
    "    def __len__(self): return len(self.df)\n",
    "    def __getitem__(self, ix):\n",
    "        f = self.df.iloc[ix].squeeze()\n",
    "        file = os.path.join(self.dataset_path,f.file)\n",
    "        gen = f.gender == 'Female'\n",
    "        age = f.age\n",
    "        im = cv2.imread(file)\n",
    "        im = cv2.cvtColor(im, cv2.COLOR_BGR2RGB)\n",
    "        return im, age, gen\n",
    "\n",
    "    def preprocess_image(self, im):\n",
    "        im = cv2.resize(im, (IMAGE_SIZE, IMAGE_SIZE))\n",
    "        im = torch.tensor(im).permute(2,0,1)\n",
    "        im = self.normalize(im/255.)\n",
    "        return im[None]\n",
    "\n",
    "    def collate_fn(self, batch):\n",
    "        'preprocess images, ages and genders'\n",
    "        ims, ages, genders = [], [], []\n",
    "        for im, age, gender in batch:\n",
    "            im = self.preprocess_image(im)\n",
    "            ims.append(im)\n",
    "\n",
    "            ages.append(float(int(age)/80))\n",
    "            genders.append(float(gender))\n",
    "\n",
    "        ages, genders = [torch.tensor(x).to(device).float() for x in [ages, genders]]\n",
    "        ims = torch.cat(ims).to(device)\n",
    "\n",
    "        return ims, ages, genders"
   ]
  },
  {
   "cell_type": "code",
   "execution_count": 5,
   "metadata": {
    "id": "cfQ7WlW1mO8c"
   },
   "outputs": [],
   "source": [
    "trn = GenderAgeClass(trn_df,fairface_folder)\n",
    "val = GenderAgeClass(val_df,fairface_folder)"
   ]
  },
  {
   "cell_type": "code",
   "execution_count": null,
   "metadata": {},
   "outputs": [],
   "source": [
    "X = trn[0]"
   ]
  },
  {
   "cell_type": "code",
   "execution_count": 6,
   "metadata": {
    "colab": {
     "base_uri": "https://localhost:8080/"
    },
    "id": "eJEiuBhlnPd-",
    "outputId": "fd1dd131-c563-4d02-af65-819886175782"
   },
   "outputs": [
    {
     "name": "stdout",
     "output_type": "stream",
     "text": [
      "torch.Size([32, 3, 224, 224]) torch.Size([32]) torch.Size([32])\n"
     ]
    }
   ],
   "source": [
    "device='cuda'\n",
    "train_loader = DataLoader(trn, batch_size=32, shuffle=True, drop_last=True, collate_fn=trn.collate_fn)\n",
    "test_loader = DataLoader(val, batch_size=32, collate_fn=val.collate_fn)\n",
    "a,b,c, = next(iter(train_loader))\n",
    "print(a.shape, b.shape, c.shape)"
   ]
  },
  {
   "cell_type": "code",
   "execution_count": 7,
   "metadata": {
    "colab": {
     "base_uri": "https://localhost:8080/",
     "height": 84,
     "referenced_widgets": [
      "a247b4c6ac9d44ab8e4c82ccfa9d8b05",
      "e0597664297e4074aafb1abc74462c54",
      "7a01294a511e42b394dd62f2af3f3014",
      "c029002323f34a74a873b4175906a3ea",
      "e6a7f4bb399f42969d624bc55fcb81e4",
      "169be448255e45e4b69f47740b1fc4e9",
      "2e780ce258ee4277b0d7e3fc99fef48e",
      "da9aacf457e948a9a406b0e5f7028bb0"
     ]
    },
    "id": "nvj3Nb6_ngim",
    "outputId": "e4eab945-a346-4b24-9251-24abeecb96f6"
   },
   "outputs": [],
   "source": [
    "def get_model():\n",
    "    model = models.vgg16(pretrained = True)\n",
    "    # Freeze parameters so we don't backprop through them\n",
    "    for param in model.parameters():\n",
    "        param.requires_grad = False\n",
    "    model.avgpool = nn.Sequential(\n",
    "        nn.Conv2d(512,512, kernel_size=3),\n",
    "        nn.MaxPool2d(2),\n",
    "        nn.ReLU(),\n",
    "        nn.Flatten()\n",
    "    )\n",
    "    class ageGenderClassifier(nn.Module):\n",
    "        def __init__(self):\n",
    "            super(ageGenderClassifier, self).__init__()\n",
    "            self.intermediate = nn.Sequential(\n",
    "                nn.Linear(2048,512),\n",
    "                nn.ReLU(),\n",
    "                nn.Dropout(0.4),\n",
    "                nn.Linear(512,128),\n",
    "                nn.ReLU(),\n",
    "                nn.Dropout(0.4),\n",
    "                nn.Linear(128,64),\n",
    "                nn.ReLU(),\n",
    "            )\n",
    "            self.age_classifier = nn.Sequential(\n",
    "                nn.Linear(64, 1),\n",
    "                nn.Sigmoid()\n",
    "            )\n",
    "            self.gender_classifier = nn.Sequential(\n",
    "                nn.Linear(64, 1),\n",
    "                nn.Sigmoid()\n",
    "            )\n",
    "        def forward(self, x):\n",
    "            x = self.intermediate(x)\n",
    "            age = self.age_classifier(x)\n",
    "            gender = self.gender_classifier(x)\n",
    "            return gender, age\n",
    "        \n",
    "    model.classifier = ageGenderClassifier()\n",
    "    \n",
    "    gender_criterion = nn.BCELoss()\n",
    "    age_criterion = nn.L1Loss()\n",
    "    loss_functions = gender_criterion, age_criterion\n",
    "    optimizer = torch.optim.Adam(model.parameters(), lr= 1e-4)\n",
    "    \n",
    "    return model.to(device), loss_functions, optimizer\n",
    "\n",
    "model, loss_functions, optimizer = get_model()"
   ]
  },
  {
   "cell_type": "code",
   "execution_count": 8,
   "metadata": {
    "colab": {
     "base_uri": "https://localhost:8080/"
    },
    "id": "XceUr1tWoJEL",
    "outputId": "777581fd-661e-4b5a-f024-3e35d5d29a22"
   },
   "outputs": [
    {
     "name": "stdout",
     "output_type": "stream",
     "text": [
      "=================================================================\n",
      "Layer (type:depth-idx)                   Param #\n",
      "=================================================================\n",
      "├─Sequential: 1-1                        --\n",
      "|    └─Conv2d: 2-1                       (1,792)\n",
      "|    └─ReLU: 2-2                         --\n",
      "|    └─Conv2d: 2-3                       (36,928)\n",
      "|    └─ReLU: 2-4                         --\n",
      "|    └─MaxPool2d: 2-5                    --\n",
      "|    └─Conv2d: 2-6                       (73,856)\n",
      "|    └─ReLU: 2-7                         --\n",
      "|    └─Conv2d: 2-8                       (147,584)\n",
      "|    └─ReLU: 2-9                         --\n",
      "|    └─MaxPool2d: 2-10                   --\n",
      "|    └─Conv2d: 2-11                      (295,168)\n",
      "|    └─ReLU: 2-12                        --\n",
      "|    └─Conv2d: 2-13                      (590,080)\n",
      "|    └─ReLU: 2-14                        --\n",
      "|    └─Conv2d: 2-15                      (590,080)\n",
      "|    └─ReLU: 2-16                        --\n",
      "|    └─MaxPool2d: 2-17                   --\n",
      "|    └─Conv2d: 2-18                      (1,180,160)\n",
      "|    └─ReLU: 2-19                        --\n",
      "|    └─Conv2d: 2-20                      (2,359,808)\n",
      "|    └─ReLU: 2-21                        --\n",
      "|    └─Conv2d: 2-22                      (2,359,808)\n",
      "|    └─ReLU: 2-23                        --\n",
      "|    └─MaxPool2d: 2-24                   --\n",
      "|    └─Conv2d: 2-25                      (2,359,808)\n",
      "|    └─ReLU: 2-26                        --\n",
      "|    └─Conv2d: 2-27                      (2,359,808)\n",
      "|    └─ReLU: 2-28                        --\n",
      "|    └─Conv2d: 2-29                      (2,359,808)\n",
      "|    └─ReLU: 2-30                        --\n",
      "|    └─MaxPool2d: 2-31                   --\n",
      "├─Sequential: 1-2                        --\n",
      "|    └─Conv2d: 2-32                      2,359,808\n",
      "|    └─MaxPool2d: 2-33                   --\n",
      "|    └─ReLU: 2-34                        --\n",
      "|    └─Flatten: 2-35                     --\n",
      "├─ageGenderClassifier: 1-3               --\n",
      "|    └─Sequential: 2-36                  --\n",
      "|    |    └─Linear: 3-1                  1,049,088\n",
      "|    |    └─ReLU: 3-2                    --\n",
      "|    |    └─Dropout: 3-3                 --\n",
      "|    |    └─Linear: 3-4                  65,664\n",
      "|    |    └─ReLU: 3-5                    --\n",
      "|    |    └─Dropout: 3-6                 --\n",
      "|    |    └─Linear: 3-7                  8,256\n",
      "|    |    └─ReLU: 3-8                    --\n",
      "|    └─Sequential: 2-37                  --\n",
      "|    |    └─Linear: 3-9                  65\n",
      "|    |    └─Sigmoid: 3-10                --\n",
      "|    └─Sequential: 2-38                  --\n",
      "|    |    └─Linear: 3-11                 65\n",
      "|    |    └─Sigmoid: 3-12                --\n",
      "=================================================================\n",
      "Total params: 18,197,634\n",
      "Trainable params: 3,482,946\n",
      "Non-trainable params: 14,714,688\n",
      "=================================================================\n"
     ]
    },
    {
     "data": {
      "text/plain": [
       "=================================================================\n",
       "Layer (type:depth-idx)                   Param #\n",
       "=================================================================\n",
       "├─Sequential: 1-1                        --\n",
       "|    └─Conv2d: 2-1                       (1,792)\n",
       "|    └─ReLU: 2-2                         --\n",
       "|    └─Conv2d: 2-3                       (36,928)\n",
       "|    └─ReLU: 2-4                         --\n",
       "|    └─MaxPool2d: 2-5                    --\n",
       "|    └─Conv2d: 2-6                       (73,856)\n",
       "|    └─ReLU: 2-7                         --\n",
       "|    └─Conv2d: 2-8                       (147,584)\n",
       "|    └─ReLU: 2-9                         --\n",
       "|    └─MaxPool2d: 2-10                   --\n",
       "|    └─Conv2d: 2-11                      (295,168)\n",
       "|    └─ReLU: 2-12                        --\n",
       "|    └─Conv2d: 2-13                      (590,080)\n",
       "|    └─ReLU: 2-14                        --\n",
       "|    └─Conv2d: 2-15                      (590,080)\n",
       "|    └─ReLU: 2-16                        --\n",
       "|    └─MaxPool2d: 2-17                   --\n",
       "|    └─Conv2d: 2-18                      (1,180,160)\n",
       "|    └─ReLU: 2-19                        --\n",
       "|    └─Conv2d: 2-20                      (2,359,808)\n",
       "|    └─ReLU: 2-21                        --\n",
       "|    └─Conv2d: 2-22                      (2,359,808)\n",
       "|    └─ReLU: 2-23                        --\n",
       "|    └─MaxPool2d: 2-24                   --\n",
       "|    └─Conv2d: 2-25                      (2,359,808)\n",
       "|    └─ReLU: 2-26                        --\n",
       "|    └─Conv2d: 2-27                      (2,359,808)\n",
       "|    └─ReLU: 2-28                        --\n",
       "|    └─Conv2d: 2-29                      (2,359,808)\n",
       "|    └─ReLU: 2-30                        --\n",
       "|    └─MaxPool2d: 2-31                   --\n",
       "├─Sequential: 1-2                        --\n",
       "|    └─Conv2d: 2-32                      2,359,808\n",
       "|    └─MaxPool2d: 2-33                   --\n",
       "|    └─ReLU: 2-34                        --\n",
       "|    └─Flatten: 2-35                     --\n",
       "├─ageGenderClassifier: 1-3               --\n",
       "|    └─Sequential: 2-36                  --\n",
       "|    |    └─Linear: 3-1                  1,049,088\n",
       "|    |    └─ReLU: 3-2                    --\n",
       "|    |    └─Dropout: 3-3                 --\n",
       "|    |    └─Linear: 3-4                  65,664\n",
       "|    |    └─ReLU: 3-5                    --\n",
       "|    |    └─Dropout: 3-6                 --\n",
       "|    |    └─Linear: 3-7                  8,256\n",
       "|    |    └─ReLU: 3-8                    --\n",
       "|    └─Sequential: 2-37                  --\n",
       "|    |    └─Linear: 3-9                  65\n",
       "|    |    └─Sigmoid: 3-10                --\n",
       "|    └─Sequential: 2-38                  --\n",
       "|    |    └─Linear: 3-11                 65\n",
       "|    |    └─Sigmoid: 3-12                --\n",
       "=================================================================\n",
       "Total params: 18,197,634\n",
       "Trainable params: 3,482,946\n",
       "Non-trainable params: 14,714,688\n",
       "================================================================="
      ]
     },
     "execution_count": 8,
     "metadata": {},
     "output_type": "execute_result"
    }
   ],
   "source": [
    "# !pip install torchsummary\n",
    "from torchsummary import summary\n",
    "summary(model, input_size=(3,224,224), device=device)"
   ]
  },
  {
   "cell_type": "code",
   "execution_count": 9,
   "metadata": {
    "id": "aJoiV7T2oMRc"
   },
   "outputs": [],
   "source": [
    "def train_batch(data, model, optimizer, criteria):\n",
    "    model.train()\n",
    "    ims, age, gender = data\n",
    "    optimizer.zero_grad()\n",
    "    pred_gender, pred_age = model(ims)    \n",
    "    gender_criterion, age_criterion = criteria\n",
    "    gender_loss = gender_criterion(pred_gender.squeeze(), gender)\n",
    "    age_loss = age_criterion(pred_age.squeeze(), age)\n",
    "    total_loss = gender_loss + age_loss\n",
    "    total_loss.backward()\n",
    "    optimizer.step()\n",
    "    return total_loss\n",
    "\n",
    "def validate_batch(data, model, criteria):\n",
    "    model.eval()\n",
    "    ims, age, gender = data\n",
    "    with torch.no_grad():\n",
    "      pred_gender, pred_age = model(ims)\n",
    "    gender_criterion, age_criterion = criteria\n",
    "    gender_loss = gender_criterion(pred_gender.squeeze(), gender)\n",
    "    age_loss = age_criterion(pred_age.squeeze(), age)\n",
    "    total_loss = gender_loss + age_loss\n",
    "    pred_gender = (pred_gender > 0.5).squeeze()\n",
    "    gender_acc = (pred_gender == gender).float().sum()\n",
    "    age_mae = torch.abs(age - pred_age).float().sum()\n",
    "    return total_loss, gender_acc, age_mae"
   ]
  },
  {
   "cell_type": "code",
   "execution_count": 13,
   "metadata": {},
   "outputs": [],
   "source": [
    "from tqdm import tqdm"
   ]
  },
  {
   "cell_type": "code",
   "execution_count": 14,
   "metadata": {
    "colab": {
     "base_uri": "https://localhost:8080/"
    },
    "id": "uhbO3pA0oTuc",
    "outputId": "e67a2fa1-5939-4ce6-8651-c0d83c65cda0"
   },
   "outputs": [
    {
     "name": "stdout",
     "output_type": "stream",
     "text": [
      "start epoch 0\n"
     ]
    },
    {
     "name": "stderr",
     "output_type": "stream",
     "text": [
      "2710it [08:02,  5.62it/s]\n",
      "343it [01:01,  5.59it/s]\n"
     ]
    },
    {
     "name": "stdout",
     "output_type": "stream",
     "text": [
      "1/5 (543.38s - 2716.91s remaining)\n",
      "Epoch: 001\tTrain Loss: 0.552\tTest: 0.467\tBest Test Loss: 0.4670\n",
      "Gender Accuracy: 83.47%\tAge MAE: 6.11\n",
      "\n",
      "start epoch 1\n"
     ]
    },
    {
     "name": "stderr",
     "output_type": "stream",
     "text": [
      "2710it [07:59,  5.65it/s]\n",
      "343it [00:59,  5.75it/s]\n"
     ]
    },
    {
     "name": "stdout",
     "output_type": "stream",
     "text": [
      "2/5 (1082.94s - 2165.87s remaining)\n",
      "Epoch: 002\tTrain Loss: 0.401\tTest: 0.441\tBest Test Loss: 0.4414\n",
      "Gender Accuracy: 84.93%\tAge MAE: 6.09\n",
      "\n",
      "start epoch 2\n"
     ]
    },
    {
     "name": "stderr",
     "output_type": "stream",
     "text": [
      "2710it [07:59,  5.66it/s]\n",
      "343it [00:59,  5.74it/s]\n"
     ]
    },
    {
     "name": "stdout",
     "output_type": "stream",
     "text": [
      "3/5 (1621.73s - 1621.73s remaining)\n",
      "Epoch: 003\tTrain Loss: 0.282\tTest: 0.503\tBest Test Loss: 0.4414\n",
      "Gender Accuracy: 84.07%\tAge MAE: 6.16\n",
      "\n",
      "start epoch 3\n"
     ]
    },
    {
     "name": "stderr",
     "output_type": "stream",
     "text": [
      "2710it [07:59,  5.65it/s]\n",
      "343it [00:58,  5.82it/s]\n"
     ]
    },
    {
     "name": "stdout",
     "output_type": "stream",
     "text": [
      "4/5 (2160.35s - 1080.18s remaining)\n",
      "Epoch: 004\tTrain Loss: 0.196\tTest: 0.630\tBest Test Loss: 0.4414\n",
      "Gender Accuracy: 83.72%\tAge MAE: 6.42\n",
      "\n",
      "start epoch 4\n"
     ]
    },
    {
     "name": "stderr",
     "output_type": "stream",
     "text": [
      "2710it [07:50,  5.75it/s]\n",
      "343it [00:58,  5.87it/s]"
     ]
    },
    {
     "name": "stdout",
     "output_type": "stream",
     "text": [
      "5/5 (2689.77s - 537.95s remaining)\n",
      "Epoch: 005\tTrain Loss: 0.156\tTest: 0.708\tBest Test Loss: 0.4414\n",
      "Gender Accuracy: 84.06%\tAge MAE: 6.12\n",
      "\n"
     ]
    },
    {
     "name": "stderr",
     "output_type": "stream",
     "text": [
      "\n"
     ]
    }
   ],
   "source": [
    "model, criteria, optimizer = get_model()\n",
    "val_gender_accuracies = []\n",
    "val_age_maes = []\n",
    "train_losses = []\n",
    "val_losses = []\n",
    "\n",
    "n_epochs = 5\n",
    "best_test_loss = 1000\n",
    "start = time.time()\n",
    "\n",
    "for epoch in range(n_epochs):\n",
    "    print(f'start epoch {epoch}')\n",
    "    epoch_train_loss, epoch_test_loss = 0, 0\n",
    "    val_age_mae, val_gender_acc, ctr = 0, 0, 0\n",
    "    _n = len(train_loader)\n",
    "\n",
    "    for ix, data in tqdm(enumerate(train_loader)):\n",
    "        # if ix == 100: break\n",
    "       #  print(f'train on batch {ix}')\n",
    "        loss = train_batch(data, model, optimizer, criteria)\n",
    "        epoch_train_loss += loss.item()\n",
    "\n",
    "    for ix, data in tqdm(enumerate(test_loader)):\n",
    "        # if ix == 10: break\n",
    "        # print(f'val on batch {ix}')\n",
    "        loss, gender_acc, age_mae = validate_batch(data, model, criteria)\n",
    "        epoch_test_loss += loss.item()\n",
    "        val_age_mae += age_mae\n",
    "        val_gender_acc += gender_acc\n",
    "        ctr += len(data[0])\n",
    "\n",
    "    val_age_mae /= ctr\n",
    "    val_gender_acc /= ctr\n",
    "    epoch_train_loss /= len(train_loader)\n",
    "    epoch_test_loss /= len(test_loader)\n",
    "\n",
    "    elapsed = time.time()-start\n",
    "    best_test_loss = min(best_test_loss, epoch_test_loss)\n",
    "    print('{}/{} ({:.2f}s - {:.2f}s remaining)'.format(epoch+1, n_epochs, time.time()-start, (n_epochs-epoch)*(elapsed/(epoch+1))))\n",
    "    info = f'''Epoch: {epoch+1:03d}\\tTrain Loss: {epoch_train_loss:.3f}\\tTest: {epoch_test_loss:.3f}\\tBest Test Loss: {best_test_loss:.4f}'''\n",
    "    info += f'\\nGender Accuracy: {val_gender_acc*100:.2f}%\\tAge MAE: {val_age_mae:.2f}\\n'\n",
    "    print(info)\n",
    "\n",
    "    val_gender_accuracies.append(val_gender_acc)\n",
    "    val_age_maes.append(val_age_mae)"
   ]
  },
  {
   "cell_type": "code",
   "execution_count": 17,
   "metadata": {},
   "outputs": [],
   "source": [
    "val_gender_accuracies= [x.cpu().numpy() for x in val_gender_accuracies]\n",
    "val_gender_accuracies"
   ]
  },
  {
   "cell_type": "code",
   "execution_count": 20,
   "metadata": {},
   "outputs": [
    {
     "data": {
      "text/plain": [
       "[array(6.1121387, dtype=float32),\n",
       " array(6.0930843, dtype=float32),\n",
       " array(6.158145, dtype=float32),\n",
       " array(6.4249687, dtype=float32),\n",
       " array(6.122465, dtype=float32)]"
      ]
     },
     "execution_count": 20,
     "metadata": {},
     "output_type": "execute_result"
    }
   ],
   "source": [
    "val_age_maes= [x.cpu().numpy() for x in val_age_maes]\n",
    "val_age_maes"
   ]
  },
  {
   "cell_type": "code",
   "execution_count": 21,
   "metadata": {
    "colab": {
     "base_uri": "https://localhost:8080/",
     "height": 350
    },
    "id": "akzO0Z3Br2GP",
    "outputId": "557b3b50-82c3-42df-dacf-2ee4f54c34c9"
   },
   "outputs": [
    {
     "data": {
      "image/png": "[encoded data removed]",
      "text/plain": [
       "<Figure size 720x360 with 2 Axes>"
      ]
     },
     "metadata": {
      "needs_background": "light"
     },
     "output_type": "display_data"
    }
   ],
   "source": [
    "epochs = np.arange(1,len(val_gender_accuracies)+1)\n",
    "fig,ax = plt.subplots(1,2,figsize=(10,5))\n",
    "ax = ax.flat\n",
    "ax[0].plot(epochs, val_gender_accuracies, 'bo')\n",
    "ax[1].plot(epochs, val_age_maes, 'r')\n",
    "ax[0].set_xlabel('Epochs')\n",
    "ax[1].set_xlabel('Epochs')\n",
    "ax[0].set_ylabel('Accuracy')\n",
    "ax[1].set_ylabel('MAE')\n",
    "ax[0].set_title('Validation Gender Accuracy')\n",
    "ax[0].set_title('Validation Age Mean-Absolute-Error')\n",
    "plt.show()\n"
   ]
  },
  {
   "cell_type": "code",
   "execution_count": 24,
   "metadata": {
    "colab": {
     "base_uri": "https://localhost:8080/",
     "height": 652
    },
    "id": "U3MVHGy2tQgn",
    "outputId": "322370b2-2b44-471c-800f-2637206d469d"
   },
   "outputs": [
    {
     "name": "stdout",
     "output_type": "stream",
     "text": [
      "predicted gender: Female ; Predicted age 20\n"
     ]
    },
    {
     "data": {
      "image/png": "[encoded data removed]",
      "text/plain": [
       "<Figure size 432x288 with 1 Axes>"
      ]
     },
     "metadata": {
      "needs_background": "light"
     },
     "output_type": "display_data"
    }
   ],
   "source": [
    "# !wget https://www.dropbox.com/s/6kzr8l68e9kpjkf/5_9.JPG\n",
    "im = cv2.imread('5_9.JPG')\n",
    "im = trn.preprocess_image(im).to(device)\n",
    "gender, age = model(im)\n",
    "pred_gender = gender.to('cpu').detach().numpy()\n",
    "pred_age = age.to('cpu').detach().numpy()\n",
    "im = cv2.imread('5_9.JPG')\n",
    "im = cv2.cvtColor(im, cv2.COLOR_BGR2RGB)\n",
    "plt.imshow(im)\n",
    "print('predicted gender:',np.where(pred_gender[0][0]<0.5,'Male','Female'), '; Predicted age', int(pred_age[0][0]*80))"
   ]
  },
  {
   "cell_type": "code",
   "execution_count": null,
   "metadata": {
    "id": "kst7Qp5lwlhJ"
   },
   "outputs": [],
   "source": []
  }
 ],
 "metadata": {
  "accelerator": "GPU",
  "colab": {
   "authorship_tag": "ABX9TyN/KZkDxUUGhZ9VYe1r36El",
   "collapsed_sections": [],
   "include_colab_link": true,
   "name": "age-gender-without-torch-snippets",
   "provenance": []
  },
  "kernelspec": {
   "display_name": "Python 3 (ipykernel)",
   "language": "python",
   "name": "python3"
  },
  "language_info": {
   "codemirror_mode": {
    "name": "ipython",
    "version": 3
   },
   "file_extension": ".py",
   "mimetype": "text/x-python",
   "name": "python",
   "nbconvert_exporter": "python",
   "pygments_lexer": "ipython3",
   "version": "3.8.12"
  },
  "toc": {
   "base_numbering": 1,
   "nav_menu": {},
   "number_sections": true,
   "sideBar": true,
   "skip_h1_title": false,
   "title_cell": "Table of Contents",
   "title_sidebar": "Contents",
   "toc_cell": false,
   "toc_position": {},
   "toc_section_display": true,
   "toc_window_display": false
  },
  "widgets": {
   "application/vnd.jupyter.widget-state+json": {
    "169be448255e45e4b69f47740b1fc4e9": {
     "model_module": "@jupyter-widgets/base",
     "model_name": "LayoutModel",
     "state": {
      "_model_module": "@jupyter-widgets/base",
      "_model_module_version": "1.2.0",
      "_model_name": "LayoutModel",
      "_view_count": null,
      "_view_module": "@jupyter-widgets/base",
      "_view_module_version": "1.2.0",
      "_view_name": "LayoutView",
      "align_content": null,
      "align_items": null,
      "align_self": null,
      "border": null,
      "bottom": null,
      "display": null,
      "flex": null,
      "flex_flow": null,
      "grid_area": null,
      "grid_auto_columns": null,
      "grid_auto_flow": null,
      "grid_auto_rows": null,
      "grid_column": null,
      "grid_gap": null,
      "grid_row": null,
      "grid_template_areas": null,
      "grid_template_columns": null,
      "grid_template_rows": null,
      "height": null,
      "justify_content": null,
      "justify_items": null,
      "left": null,
      "margin": null,
      "max_height": null,
      "max_width": null,
      "min_height": null,
      "min_width": null,
      "object_fit": null,
      "object_position": null,
      "order": null,
      "overflow": null,
      "overflow_x": null,
      "overflow_y": null,
      "padding": null,
      "right": null,
      "top": null,
      "visibility": null,
      "width": null
     }
    },
    "2e780ce258ee4277b0d7e3fc99fef48e": {
     "model_module": "@jupyter-widgets/controls",
     "model_name": "DescriptionStyleModel",
     "state": {
      "_model_module": "@jupyter-widgets/controls",
      "_model_module_version": "1.5.0",
      "_model_name": "DescriptionStyleModel",
      "_view_count": null,
      "_view_module": "@jupyter-widgets/base",
      "_view_module_version": "1.2.0",
      "_view_name": "StyleView",
      "description_width": ""
     }
    },
    "7a01294a511e42b394dd62f2af3f3014": {
     "model_module": "@jupyter-widgets/controls",
     "model_name": "FloatProgressModel",
     "state": {
      "_dom_classes": [],
      "_model_module": "@jupyter-widgets/controls",
      "_model_module_version": "1.5.0",
      "_model_name": "FloatProgressModel",
      "_view_count": null,
      "_view_module": "@jupyter-widgets/controls",
      "_view_module_version": "1.5.0",
      "_view_name": "ProgressView",
      "bar_style": "success",
      "description": "100%",
      "description_tooltip": null,
      "layout": "IPY_MODEL_169be448255e45e4b69f47740b1fc4e9",
      "max": 553433881,
      "min": 0,
      "orientation": "horizontal",
      "style": "IPY_MODEL_e6a7f4bb399f42969d624bc55fcb81e4",
      "value": 553433881
     }
    },
    "a247b4c6ac9d44ab8e4c82ccfa9d8b05": {
     "model_module": "@jupyter-widgets/controls",
     "model_name": "HBoxModel",
     "state": {
      "_dom_classes": [],
      "_model_module": "@jupyter-widgets/controls",
      "_model_module_version": "1.5.0",
      "_model_name": "HBoxModel",
      "_view_count": null,
      "_view_module": "@jupyter-widgets/controls",
      "_view_module_version": "1.5.0",
      "_view_name": "HBoxView",
      "box_style": "",
      "children": [
       "IPY_MODEL_7a01294a511e42b394dd62f2af3f3014",
       "IPY_MODEL_c029002323f34a74a873b4175906a3ea"
      ],
      "layout": "IPY_MODEL_e0597664297e4074aafb1abc74462c54"
     }
    },
    "c029002323f34a74a873b4175906a3ea": {
     "model_module": "@jupyter-widgets/controls",
     "model_name": "HTMLModel",
     "state": {
      "_dom_classes": [],
      "_model_module": "@jupyter-widgets/controls",
      "_model_module_version": "1.5.0",
      "_model_name": "HTMLModel",
      "_view_count": null,
      "_view_module": "@jupyter-widgets/controls",
      "_view_module_version": "1.5.0",
      "_view_name": "HTMLView",
      "description": "",
      "description_tooltip": null,
      "layout": "IPY_MODEL_da9aacf457e948a9a406b0e5f7028bb0",
      "placeholder": "​",
      "style": "IPY_MODEL_2e780ce258ee4277b0d7e3fc99fef48e",
      "value": " 528M/528M [00:17&lt;00:00, 31.1MB/s]"
     }
    },
    "da9aacf457e948a9a406b0e5f7028bb0": {
     "model_module": "@jupyter-widgets/base",
     "model_name": "LayoutModel",
     "state": {
      "_model_module": "@jupyter-widgets/base",
      "_model_module_version": "1.2.0",
      "_model_name": "LayoutModel",
      "_view_count": null,
      "_view_module": "@jupyter-widgets/base",
      "_view_module_version": "1.2.0",
      "_view_name": "LayoutView",
      "align_content": null,
      "align_items": null,
      "align_self": null,
      "border": null,
      "bottom": null,
      "display": null,
      "flex": null,
      "flex_flow": null,
      "grid_area": null,
      "grid_auto_columns": null,
      "grid_auto_flow": null,
      "grid_auto_rows": null,
      "grid_column": null,
      "grid_gap": null,
      "grid_row": null,
      "grid_template_areas": null,
      "grid_template_columns": null,
      "grid_template_rows": null,
      "height": null,
      "justify_content": null,
      "justify_items": null,
      "left": null,
      "margin": null,
      "max_height": null,
      "max_width": null,
      "min_height": null,
      "min_width": null,
      "object_fit": null,
      "object_position": null,
      "order": null,
      "overflow": null,
      "overflow_x": null,
      "overflow_y": null,
      "padding": null,
      "right": null,
      "top": null,
      "visibility": null,
      "width": null
     }
    },
    "e0597664297e4074aafb1abc74462c54": {
     "model_module": "@jupyter-widgets/base",
     "model_name": "LayoutModel",
     "state": {
      "_model_module": "@jupyter-widgets/base",
      "_model_module_version": "1.2.0",
      "_model_name": "LayoutModel",
      "_view_count": null,
      "_view_module": "@jupyter-widgets/base",
      "_view_module_version": "1.2.0",
      "_view_name": "LayoutView",
      "align_content": null,
      "align_items": null,
      "align_self": null,
      "border": null,
      "bottom": null,
      "display": null,
      "flex": null,
      "flex_flow": null,
      "grid_area": null,
      "grid_auto_columns": null,
      "grid_auto_flow": null,
      "grid_auto_rows": null,
      "grid_column": null,
      "grid_gap": null,
      "grid_row": null,
      "grid_template_areas": null,
      "grid_template_columns": null,
      "grid_template_rows": null,
      "height": null,
      "justify_content": null,
      "justify_items": null,
      "left": null,
      "margin": null,
      "max_height": null,
      "max_width": null,
      "min_height": null,
      "min_width": null,
      "object_fit": null,
      "object_position": null,
      "order": null,
      "overflow": null,
      "overflow_x": null,
      "overflow_y": null,
      "padding": null,
      "right": null,
      "top": null,
      "visibility": null,
      "width": null
     }
    },
    "e6a7f4bb399f42969d624bc55fcb81e4": {
     "model_module": "@jupyter-widgets/controls",
     "model_name": "ProgressStyleModel",
     "state": {
      "_model_module": "@jupyter-widgets/controls",
      "_model_module_version": "1.5.0",
      "_model_name": "ProgressStyleModel",
      "_view_count": null,
      "_view_module": "@jupyter-widgets/base",
      "_view_module_version": "1.2.0",
      "_view_name": "StyleView",
      "bar_color": null,
      "description_width": "initial"
     }
    }
   }
  }
 },
 "nbformat": 4,
 "nbformat_minor": 1
}
